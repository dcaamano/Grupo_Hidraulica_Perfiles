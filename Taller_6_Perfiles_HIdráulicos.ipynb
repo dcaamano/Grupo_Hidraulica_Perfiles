{
  "nbformat": 4,
  "nbformat_minor": 0,
  "metadata": {
    "kernelspec": {
      "display_name": "Python 3",
      "language": "python",
      "name": "python3"
    },
    "language_info": {
      "codemirror_mode": {
        "name": "ipython",
        "version": 3
      },
      "file_extension": ".py",
      "mimetype": "text/x-python",
      "name": "python",
      "nbconvert_exporter": "python",
      "pygments_lexer": "ipython3",
      "version": "3.8.3"
    },
    "colab": {
      "name": "Taller 6_Perfiles HIdráulicos.ipynb",
      "provenance": [],
      "collapsed_sections": [],
      "include_colab_link": true
    },
    "widgets": {
      "application/vnd.jupyter.widget-state+json": {
        "9389e68199744247a021746fb1b92ab9": {
          "model_module": "@jupyter-widgets/controls",
          "model_name": "VBoxModel",
          "model_module_version": "1.5.0",
          "state": {
            "_view_name": "VBoxView",
            "_dom_classes": [],
            "_model_name": "VBoxModel",
            "_view_module": "@jupyter-widgets/controls",
            "_model_module_version": "1.5.0",
            "_view_count": null,
            "_view_module_version": "1.5.0",
            "box_style": "",
            "layout": "IPY_MODEL_4e69957122aa4f4cbc0e4da549d8a2f1",
            "_model_module": "@jupyter-widgets/controls",
            "children": [
              "IPY_MODEL_78f2d35f8e014cd7944f6f6a40e43e50",
              "IPY_MODEL_067be6091d2240c28004493c1d7ed59d"
            ]
          }
        },
        "4e69957122aa4f4cbc0e4da549d8a2f1": {
          "model_module": "@jupyter-widgets/base",
          "model_name": "LayoutModel",
          "model_module_version": "1.2.0",
          "state": {
            "_view_name": "LayoutView",
            "grid_template_rows": null,
            "right": null,
            "justify_content": null,
            "_view_module": "@jupyter-widgets/base",
            "overflow": null,
            "_model_module_version": "1.2.0",
            "_view_count": null,
            "flex_flow": null,
            "width": null,
            "min_width": null,
            "border": null,
            "align_items": null,
            "bottom": null,
            "_model_module": "@jupyter-widgets/base",
            "top": null,
            "grid_column": null,
            "overflow_y": null,
            "overflow_x": null,
            "grid_auto_flow": null,
            "grid_area": null,
            "grid_template_columns": null,
            "flex": null,
            "_model_name": "LayoutModel",
            "justify_items": null,
            "grid_row": null,
            "max_height": null,
            "align_content": null,
            "visibility": null,
            "align_self": null,
            "height": null,
            "min_height": null,
            "padding": null,
            "grid_auto_rows": null,
            "grid_gap": null,
            "max_width": null,
            "order": null,
            "_view_module_version": "1.2.0",
            "grid_template_areas": null,
            "object_position": null,
            "object_fit": null,
            "grid_auto_columns": null,
            "margin": null,
            "display": null,
            "left": null
          }
        },
        "78f2d35f8e014cd7944f6f6a40e43e50": {
          "model_module": "@jupyter-widgets/controls",
          "model_name": "HBoxModel",
          "model_module_version": "1.5.0",
          "state": {
            "_view_name": "HBoxView",
            "_dom_classes": [],
            "_model_name": "HBoxModel",
            "_view_module": "@jupyter-widgets/controls",
            "_model_module_version": "1.5.0",
            "_view_count": null,
            "_view_module_version": "1.5.0",
            "box_style": "",
            "layout": "IPY_MODEL_f233b1ddde6c475e84499252f2a3dd9a",
            "_model_module": "@jupyter-widgets/controls",
            "children": [
              "IPY_MODEL_10ed13c39dd6450f9305eee9ea2c7e6c",
              "IPY_MODEL_05b3d4ac64dc4379b0835945662b6fa8",
              "IPY_MODEL_16e22fdd4529486890dc7f23e2fd5027"
            ]
          }
        },
        "067be6091d2240c28004493c1d7ed59d": {
          "model_module": "@jupyter-widgets/output",
          "model_name": "OutputModel",
          "model_module_version": "1.0.0",
          "state": {
            "_view_name": "OutputView",
            "msg_id": "",
            "_dom_classes": [],
            "_model_name": "OutputModel",
            "outputs": [
              {
                "output_type": "display_data",
                "data": {
                  "image/png": "iVBORw0KGgoAAAANSUhEUgAAAXoAAAEICAYAAABRSj9aAAAABHNCSVQICAgIfAhkiAAAAAlwSFlzAAALEgAACxIB0t1+/AAAADh0RVh0U29mdHdhcmUAbWF0cGxvdGxpYiB2ZXJzaW9uMy4yLjIsIGh0dHA6Ly9tYXRwbG90bGliLm9yZy+WH4yJAAAYVUlEQVR4nO3df5wddX3v8dfbkPBbCGSrkA0BaxSDStDTgIVb18qPJAViK9WkFUHxhovQkhZbgatgwWtt6w/aCkKqaSrUBApiIw2GCKTUQmw2GiO/AmuEZiM2C+E3XLiJn/vHfPfeyebsntndk5zdb97Px+M8dub7nZnzOZPN+8z5zsweRQRmZpav17S6ADMz27kc9GZmmXPQm5llzkFvZpY5B72ZWeYc9GZmmXPQ26gj6QVJb+jT9hpJ/yzpnFbVNRJJOlxSSNqj1bVY6zjobdgknSDpXknPStoi6d8l/drOer6I2C8iNvRp/ixwZ0R8fWc9b1WSOiR1t7oOs15+l7dhkfRa4DbgPOAmYBzw34BXdmUdEXFpM7cnaY+I2NrMbY423gf58BG9DdebACJicURsi4iXI+KOiFjXu4Ckj0p6SNLTkpZLmlzqO0rSivRJ4L8kXZrax0i6VNJPJT0vaY2kSakvJL0xTR8g6RuSeiQ9LulTkl6T+s6W9H1JX0jP/TNJM/t7IZIek/RJSeuAFyXtIem49GnlGUk/ltRRWv4gSX8v6edp+9+WtC9wO3BoGmJ6QdKhkqZLui9t5wlJX5E0rrStkPQ/JD2alrlakkr74ouSnkyv4YLycEyq+8TStj4j6YZ+XuNH0r/F85I2SDq31NchqTvtg18Af1/h399GAQe9DdcjwDZJ/yBppqTx5U5Js4FLgd8B2oB/Axanvv2B7wHfBQ4F3gjcmVb9Y2AuMAt4LfBR4KU6z/+3wAHAG4B3Ax8GPlLqPxZYD0wA/hL4em+A9mMu8FvAgcDrgH+hGBY6CPgEcIuktrTs9cA+wFHArwBfjogXgZnAz9MQ034R8XNgG/BHqY53Ae8FPt7nuU8Ffg14O/AB4JTU/t/TNqcB7wDeN0D9jWxOz/Naiv30ZUnvKPW/Pr3WycC8YTyPjSQR4Ycfw3oAbwEWAd3AVmAp8LrUdztwTmnZ11AE9mSKUP1RP9tcD8zupy8o3hTGAK8CU0t95wIr0/TZQFepb5+07uv72e5jwEdL858Eru+zzHLgLOAQ4JfA+Drb6QC6G+yz+cCtfV7TCaX5m4CL0/RdwLmlvhPT8nuU6j6x1P8Z4IY0fXh52Tp1fBu4sFT3q8Berf6d8qO5Dx/R27BFxEMRcXZEtANvpTg6vyp1Twb+Og1HPANsAQRMBCYBP+1nswP19ZoAjAUeL7U9nrbd6xelOns/Eew3wDY3lqYnA7/bW3uq/wSKkJ8EbImIpxvUCICkN0m6TdIvJD0HfC7VX/aL0vRLpToP7VNXeXpQ0qeuVWmo7BmKT0zlOnoi4n8Pdfs2Mjnoraki4mGKo/u3pqaNFEejB5Yee0fEvanvDf1saiPwqw2e7kng/1AEcq/DgE1DrZ/i6Ldcw/V9at83Ij6f+g6SdGCDbfT6KvAwMCUiXksxnDXQEFLZE0B7aX5Sn/4XKT6t9Hp9vY1I2hO4BfgCxSeuA4Flferwn7PNkIPehkXSkZIuktSe5idRDMmsSotcC1wi6ajUf4Ck3019twGHSJovaU9J+0s6NvV9DbhS0hQV3i7p4PJzR8Q2iiGO/5XWnUwxtl/3ROQQ3ACcJumUdEJ0r3TCsj0inqAYlrpG0nhJYyX9Rlrvv4CDJR1Q2tb+wHPAC5KOpLhKqaqbgAslTUxvLJ/s078WmJNqqAFn9LOdccCeQA+wNZ2YPnkQddgo5aC34Xqe4oTnDyS9SBHw9wMXAUTErcBfAEvSkMX9FCcWiYjngZOA0yiGLR4F3pO2+yWKgLuDIiC/Duxd5/n/gOKIdgPwfeCbwMJmvLCI2Aj0nkzuoTiK/xP+//+bMyk+UTxMcZJzflrvYYoTzhvSkM+hFCdyf49if/0dcOMgSvk7iv2wDvgRxVH4VooTvACfpvj08zTwZxT7oN7reR74Q4r9+nSqZ+kg6rBRShH+pGY2mqQj8WsjYnLDhc3wEb3ZiCdpb0mz0nX9E4HLgVtbXZeNHg2DXtIkSXdLelDSA5IurLOMJP2NpC5J68rX5Uo6K90E8qiks5r9Asx2A6IYknmaYujmIeCyllZko0rDoRtJhwCHRMQP0w0ua4D3RcSDpWVmUYyVzqIYr/3riDhW0kFAJ1CjOJu/Bnhn1UvSzMxs+Boe0UfEExHxwzT9PMXRxMQ+i80GvhGFVcCB6Q3iFGBFRPReb7wCmNHUV2BmZgMa1B81k3Q4cAzwgz5dE9n+Jo7u1NZfe71tzyPdcr3vvvu+88gjjxxMaWZmu7U1a9Y8GRFt9foqB72k/ShutpgfEc81q7heEbEAWABQq9Wis7Oz2U9hZpYtSY/311fpqhtJYylC/h8j4lt1FtnE9nfrtae2/trNzGwXqXLVjShuVnkoIr7Uz2JLgQ+nq2+OA55Ndw4uB05Odw6Op7gLb3mTajczswqqDN0cT3EH4E8krU1tl1L8TREi4lqKO/VmAV0Uf4zpI6lvi6QrgdVpvSsiYkvzyjczs0YaBn1EfJ8Gf3wpims0z++nbyFNuiXdzMwGz3fGmpllzkFvZpY5B72ZWeYc9GZmmXPQm5llzkFvZpY5B72ZWeYc9GZmmXPQm5llzkFvZpY5B72ZWeYc9GZmmXPQm5llzkFvZpY5B72ZWeYc9GZmmXPQm5llruE3TElaCJwKbI6It9bp/xPg90vbewvQlr5G8DHgeWAbsDUias0q3MzMqqlyRL8ImNFfZ0T8VURMi4hpwCXAv/b5Xtj3pH6HvJlZCzQM+oi4B6j6hd5zgcXDqsjMzJqqaWP0kvahOPK/pdQcwB2S1kia12D9eZI6JXX29PQ0qywzs91eM0/Gngb8e59hmxMi4h3ATOB8Sb/R38oRsSAiahFRa2tra2JZZma7t2YG/Rz6DNtExKb0czNwKzC9ic9nZmYVNCXoJR0AvBv451LbvpL2750GTgbub8bzmZlZdVUur1wMdAATJHUDlwNjASLi2rTYbwN3RMSLpVVfB9wqqfd5vhkR321e6WZmVkXDoI+IuRWWWURxGWa5bQNw9FALMzOz5vCdsWZmmXPQm5llzkFvZpY5B72ZWeYc9GZmmXPQm5llzkFvZpY5B72ZWeYc9GZmmXPQm5llzkFvZpY5B72ZWeYc9GZmmXPQm5llzkFvZpY5B72ZWeYc9GZmmWsY9JIWStosqe73vUrqkPSspLXpcVmpb4ak9ZK6JF3czMLNzKyaKkf0i4AZDZb5t4iYlh5XAEgaA1wNzASmAnMlTR1OsWZmNngNgz4i7gG2DGHb04GuiNgQEa8CS4DZQ9iOmZkNQ7PG6N8l6ceSbpd0VGqbCGwsLdOd2uqSNE9Sp6TOnp6eust0dHTQ0dHRpJLNzIZmtGVRM4L+h8DkiDga+Fvg20PZSEQsiIhaRNTa2tqaUJaZmUETgj4inouIF9L0MmCspAnAJmBSadH21GZmZrvQsINe0uslKU1PT9t8ClgNTJF0hKRxwBxg6XCfz8zMBmePRgtIWgx0ABMkdQOXA2MBIuJa4AzgPElbgZeBORERwFZJFwDLgTHAwoh4YKe8CjMz61fDoI+IuQ36vwJ8pZ++ZcCyoZVmZmbN4Dtjzcwy56A3M8ucg97MLHMOejOzzDnozcwy56A3M8ucg97MLHMOejOzzDnozcwy56A3M8ucg97MLHMOejOzzDnozcwy56A3M8ucg97MLHMOejOzzDnozcwy1zDoJS2UtFnS/f30/76kdZJ+IuleSUeX+h5L7WsldTazcDMzq6bKEf0iYMYA/T8D3h0RbwOuBBb06X9PREyLiNrQSjQzs+Go8p2x90g6fID+e0uzq4D24ZdlZmbN0uwx+nOA20vzAdwhaY2keQOtKGmepE5JnT09PU0uy8xs99XwiL4qSe+hCPoTSs0nRMQmSb8CrJD0cETcU2/9iFhAGvap1WrRrLrMzHZ3TTmil/R24GvA7Ih4qrc9Ijaln5uBW4HpzXg+MzOrbthBL+kw4FvAmRHxSKl9X0n7904DJwN1r9wxM7Odp+HQjaTFQAcwQVI3cDkwFiAirgUuAw4GrpEEsDVdYfM64NbUtgfwzYj47k54DWZmNoAqV93MbdD/MeBjddo3AEfvuIaZme1KvjPWzCxzDnozs8w56M3MMuegNzPLnIPezCxzDnozs8w56M3MMuegNzPLnIPezCxzDnozs8w56M3MMuegNzPLnIPezCxzDnozs8w56M3MMuegNzPLnIPezCxzlYJe0kJJmyXV/c5XFf5GUpekdZLeUeo7S9Kj6XFWswo3M7Nqqh7RLwJmDNA/E5iSHvOArwJIOojiO2aPBaYDl0saP9Rizcxs8CoFfUTcA2wZYJHZwDeisAo4UNIhwCnAiojYEhFPAysY+A3DzMyarFlj9BOBjaX57tTWX/sOJM2T1Cmps6enp0llmZnZiDkZGxELIqIWEbW2trZWl2Nmlo1mBf0mYFJpvj219dduZma7SLOCfinw4XT1zXHAsxHxBLAcOFnS+HQS9uTUZmZmu8geVRaStBjoACZI6qa4kmYsQERcCywDZgFdwEvAR1LfFklXAqvTpq6IiIFO6pqZWZNVCvqImNugP4Dz++lbCCwcfGlmZtYMI+ZkrJmZ7RwOejOzzDnozcwy56A3M8ucg97MLHMOejOzzDnozcwy56A3M8ucg97MLHMOejOzzDnozcwy56A3M8ucg97MLHMOejOzzDnozcwy56A3M8ucg97MLHOVgl7SDEnrJXVJurhO/5clrU2PRyQ9U+rbVupb2szizcyssYZfJShpDHA1cBLQDayWtDQiHuxdJiL+qLT8HwDHlDbxckRMa17JZmY2GFWO6KcDXRGxISJeBZYAswdYfi6wuBnFmZnZ8FUJ+onAxtJ8d2rbgaTJwBHAXaXmvSR1Slol6X39PYmkeWm5zp6engplmZlZFc0+GTsHuDkitpXaJkdEDfg94CpJv1pvxYhYEBG1iKi1tbU1uSwzs91XlaDfBEwqzbentnrm0GfYJiI2pZ8bgJVsP35vZmY7WZWgXw1MkXSEpHEUYb7D1TOSjgTGA/eV2sZL2jNNTwCOBx7su66Zme08Da+6iYitki4AlgNjgIUR8YCkK4DOiOgN/TnAkoiI0upvAa6T9EuKN5XPl6/WMTOzna9h0ANExDJgWZ+2y/rMf6bOevcCbxtGfWZmNky+M9bMLHMOejOzzDnozcwy56A3M8ucg97MLHMOejOzzDnozcwyV+k6+hFl7Vro6Ni+7QMfgI9/HF56CWbN2nGds88uHk8+CWecsWP/eefBBz8IGzfCmWfu2H/RRXDaabB+PZx77o79n/oUnHhiUdv8+Tv2f+5z8Ou/DvfeC5deumP/VVfBtGnwve/BZz+7Y/9118Gb3wzf+Q588Ys79l9/PUyaBDfeCF/96o79N98MEybAokXFo69ly2CffeCaa+Cmm3bsX7my+PmFL8Btt23ft/fecPvtxfSVV8Kdd27ff/DBcMstxfQll8B9923f394ON9xQTM+fX+zDsje9CRYsKKbnzYNHHtm+f9q0Yv8BfOhD0N29ff+73gV//ufF9PvfD089tX3/e98Ln/50MT1zJrz88vb9p54Kn/hEMd339w78u7e7/u6tXVvst1HCR/RmZpnT9n+xYGSo1WrR2dm5Q3tHOqJa2fsub2bWAiMxiyStSX8peAc+ojczy5yD3swscw56M7PMOejNzDLnoDczy5yD3swscw56M7PMVQp6STMkrZfUJeniOv1nS+qRtDY9PlbqO0vSo+lxVjOLNzOzxhr+CQRJY4CrgZOAbmC1pKV1vvv1xoi4oM+6BwGXAzUggDVp3aebUr2ZmTVU5Yh+OtAVERsi4lVgCTC74vZPAVZExJYU7iuAGUMr1czMhqJK0E8ENpbmu1NbX++XtE7SzZImDXJdJM2T1Cmps6enp0JZZmZWRbNOxn4HODwi3k5x1P4Pg91ARCyIiFpE1Nra2ppUlpmZVQn6TcCk0nx7avt/IuKpiHglzX4NeGfVdc3MbOeqEvSrgSmSjpA0DpgDLC0vIOmQ0uzpwENpejlwsqTxksYDJ6c2MzPbRRpedRMRWyVdQBHQY4CFEfGApCuAzohYCvyhpNOBrcAW4Oy07hZJV1K8WQBcERFbdsLrMDOzflT6hqmIWAYs69N2WWn6EuCSftZdCCwcRo1mZjYMvjPWzCxzDnozs8w56M3MMuegNzPLnIPezCxzDnozs8w56M3MMuegNzPLnIPezCxzDnozs8w56M3MMuegNzPLnIPezCxzDnozs8xV+jPFI8m/Amp1EWa223t3qwsYBB/Rm5llrlLQS5ohab2kLkkX1+n/Y0kPSlon6U5Jk0t92yStTY+lfdc1M7Odq+HQjaQxwNXASUA3sFrS0oh4sLTYj4BaRLwk6TzgL4EPpr6XI2Jak+s2M7OKqhzRTwe6ImJDRLwKLAFmlxeIiLsj4qU0uwpob26ZZmY2VFWCfiKwsTTfndr6cw5we2l+L0mdklZJet8QajQzs2Fo6lU3kj4E1Nj+hPTkiNgk6Q3AXZJ+EhE/rbPuPGAewGGHHdbMsszMdmtVjug3AZNK8+2pbTuSTgT+J3B6RLzS2x4Rm9LPDcBK4Jh6TxIRCyKiFhG1tra2yi/AzMwGViXoVwNTJB0haRwwB9ju6hlJxwDXUYT85lL7eEl7pukJwPFA+SSumZntZA2HbiJiq6QLgOXAGGBhRDwg6QqgMyKWAn8F7Af8kySA/4yI04G3ANdJ+iXFm8rn+1ytY2ZmO1mlMfqIWAYs69N2WWn6xH7Wuxd423AKNDOz4fGdsWZmmXPQm5llzkFvZpY5B72ZWeYc9GZmmXPQm5llzkFvZpY5B72ZWeYc9GZmmXPQm5llzkFvZpY5B72ZWeYc9GZmmXPQm5llzkFvZpY5B72ZWeYc9GZmmasU9JJmSFovqUvSxXX695R0Y+r/gaTDS32XpPb1kk5pXulmZlZFw6CXNAa4GpgJTAXmSpraZ7FzgKcj4o3Al4G/SOtOpfgy8aOAGcA1aXtmZraLVPnO2OlAV0RsAJC0BJgNlL/kezbwmTR9M/AVFd8SPhtYEhGvAD+T1JW2d9+QK167Fjo6hry6mdmwrV0L06a1uorKqgT9RGBjab4bOLa/ZSJiq6RngYNT+6o+606s9ySS5gHzAA477LC6haxcuZIOh7yZtdq0aaxcubLVVVRWJeh3iYhYACwAqNVq0d9yo2nnmpmNBFVOxm4CJpXm21Nb3WUk7QEcADxVcV0zM9uJqgT9amCKpCMkjaM4ubq0zzJLgbPS9BnAXRERqX1OuirnCGAK8B/NKd3MzKpoOHSTxtwvAJYDY4CFEfGApCuAzohYCnwduD6dbN1C8WZAWu4mihO3W4HzI2LbTnotZmZWh4oD75GlVqtFZ2dnq8swMxs1JK2JiFq9Pt8Za2aWOQe9mVnmHPRmZplz0JuZZc5Bb2aWuRF51Y2kHuDxfronAE/uwnJGI++jgXn/NOZ91NhI20eTI6KtXseIDPqBSOrs7xIiK3gfDcz7pzHvo8ZG0z7y0I2ZWeYc9GZmmRuNQb+g1QWMAt5HA/P+acz7qLFRs49G3Ri9mZkNzmg8ojczs0Fw0JuZZW7UBL2kGZLWS+qSdHGr6xmJJC2UtFnS/a2uZSSSNEnS3ZIelPSApAtbXdNII2kvSf8h6cdpH/1Zq2saiSSNkfQjSbe1upYqRkXQSxoDXA3MBKYCcyVNbW1VI9IiYEarixjBtgIXRcRU4DjgfP8e7eAV4Dcj4mhgGjBD0nEtrmkkuhB4qNVFVDUqgh6YDnRFxIaIeBVYAsxucU0jTkTcQ/HFL1ZHRDwRET9M089T/Eet+2X1u6sovJBmx6aHr9gokdQO/BbwtVbXUtVoCfqJwMbSfDf+D2rDIOlw4BjgB62tZORJwxJrgc3AiojwPtreVcCfAr9sdSFVjZagN2saSfsBtwDzI+K5Vtcz0kTEtoiYBrQD0yW9tdU1jRSSTgU2R8SaVtcyGKMl6DcBk0rz7anNbFAkjaUI+X+MiG+1up6RLCKeAe7G533KjgdOl/QYxRDyb0q6obUlNTZagn41MEXSEZLGUXz5+NIW12SjjCRRfJH9QxHxpVbXMxJJapN0YJreGzgJeLi1VY0cEXFJRLRHxOEUOXRXRHyoxWU1NCqCPiK2AhcAyylOoN0UEQ+0tqqRR9Ji4D7gzZK6JZ3T6ppGmOOBMymOwtamx6xWFzXCHALcLWkdxQHWiogYFZcQWv/8JxDMzDI3Ko7ozcxs6Bz0ZmaZc9CbmWXOQW9mljkHvZlZ5hz0ZmaZc9CbmWXu/wIV7+PkPc4YZQAAAABJRU5ErkJggg==\n",
                  "text/plain": "<Figure size 432x288 with 1 Axes>"
                },
                "metadata": {
                  "needs_background": "light"
                }
              },
              {
                "output_type": "display_data",
                "data": {
                  "text/plain": "<Figure size 216x216 with 0 Axes>"
                },
                "metadata": {}
              }
            ],
            "_view_module": "@jupyter-widgets/output",
            "_model_module_version": "1.0.0",
            "_view_count": null,
            "_view_module_version": "1.0.0",
            "layout": "IPY_MODEL_3b3c403358fc42ed99dff0376e4ac10d",
            "_model_module": "@jupyter-widgets/output"
          }
        },
        "f233b1ddde6c475e84499252f2a3dd9a": {
          "model_module": "@jupyter-widgets/base",
          "model_name": "LayoutModel",
          "model_module_version": "1.2.0",
          "state": {
            "_view_name": "LayoutView",
            "grid_template_rows": null,
            "right": null,
            "justify_content": null,
            "_view_module": "@jupyter-widgets/base",
            "overflow": null,
            "_model_module_version": "1.2.0",
            "_view_count": null,
            "flex_flow": null,
            "width": null,
            "min_width": null,
            "border": null,
            "align_items": null,
            "bottom": null,
            "_model_module": "@jupyter-widgets/base",
            "top": null,
            "grid_column": null,
            "overflow_y": null,
            "overflow_x": null,
            "grid_auto_flow": null,
            "grid_area": null,
            "grid_template_columns": null,
            "flex": null,
            "_model_name": "LayoutModel",
            "justify_items": null,
            "grid_row": null,
            "max_height": null,
            "align_content": null,
            "visibility": null,
            "align_self": null,
            "height": null,
            "min_height": null,
            "padding": null,
            "grid_auto_rows": null,
            "grid_gap": null,
            "max_width": null,
            "order": null,
            "_view_module_version": "1.2.0",
            "grid_template_areas": null,
            "object_position": null,
            "object_fit": null,
            "grid_auto_columns": null,
            "margin": null,
            "display": null,
            "left": null
          }
        },
        "10ed13c39dd6450f9305eee9ea2c7e6c": {
          "model_module": "@jupyter-widgets/controls",
          "model_name": "VBoxModel",
          "model_module_version": "1.5.0",
          "state": {
            "_view_name": "VBoxView",
            "_dom_classes": [],
            "_model_name": "VBoxModel",
            "_view_module": "@jupyter-widgets/controls",
            "_model_module_version": "1.5.0",
            "_view_count": null,
            "_view_module_version": "1.5.0",
            "box_style": "",
            "layout": "IPY_MODEL_a140bfccc38d4257b115351e247ddcd8",
            "_model_module": "@jupyter-widgets/controls",
            "children": [
              "IPY_MODEL_4be3db0d33eb442fbcd9054bdec4ba3e",
              "IPY_MODEL_b06c8df3fe284daabd23c6bae35b0add",
              "IPY_MODEL_f4f5866ed1624afcbe1dd2862afd5a85",
              "IPY_MODEL_dfdb073f716a41fcaedd63b70b59c8d6"
            ]
          }
        },
        "05b3d4ac64dc4379b0835945662b6fa8": {
          "model_module": "@jupyter-widgets/controls",
          "model_name": "VBoxModel",
          "model_module_version": "1.5.0",
          "state": {
            "_view_name": "VBoxView",
            "_dom_classes": [],
            "_model_name": "VBoxModel",
            "_view_module": "@jupyter-widgets/controls",
            "_model_module_version": "1.5.0",
            "_view_count": null,
            "_view_module_version": "1.5.0",
            "box_style": "",
            "layout": "IPY_MODEL_604f62167bea4f7d8d091e40cc58563e",
            "_model_module": "@jupyter-widgets/controls",
            "children": [
              "IPY_MODEL_6198560685db4ee8888f955e2064d263",
              "IPY_MODEL_b5590a796e824d858676cd9a9c7332c4",
              "IPY_MODEL_9a66c8b41ac64b50bf731dd041155b19",
              "IPY_MODEL_998908da9cd64a999351ddfdaf68e1b5"
            ]
          }
        },
        "16e22fdd4529486890dc7f23e2fd5027": {
          "model_module": "@jupyter-widgets/output",
          "model_name": "OutputModel",
          "model_module_version": "1.0.0",
          "state": {
            "_view_name": "OutputView",
            "msg_id": "",
            "_dom_classes": [],
            "_model_name": "OutputModel",
            "outputs": [
              {
                "output_type": "stream",
                "name": "stdout",
                "text": [
                  "Altura normal = 0.3074 m.\n",
                  "Altura crítica = 0.6121 m.\n"
                ]
              }
            ],
            "_view_module": "@jupyter-widgets/output",
            "_model_module_version": "1.0.0",
            "_view_count": null,
            "_view_module_version": "1.0.0",
            "layout": "IPY_MODEL_cec34356fb344b73a7d257981cf91750",
            "_model_module": "@jupyter-widgets/output"
          }
        },
        "a140bfccc38d4257b115351e247ddcd8": {
          "model_module": "@jupyter-widgets/base",
          "model_name": "LayoutModel",
          "model_module_version": "1.2.0",
          "state": {
            "_view_name": "LayoutView",
            "grid_template_rows": null,
            "right": null,
            "justify_content": null,
            "_view_module": "@jupyter-widgets/base",
            "overflow": null,
            "_model_module_version": "1.2.0",
            "_view_count": null,
            "flex_flow": null,
            "width": null,
            "min_width": null,
            "border": null,
            "align_items": null,
            "bottom": null,
            "_model_module": "@jupyter-widgets/base",
            "top": null,
            "grid_column": null,
            "overflow_y": null,
            "overflow_x": null,
            "grid_auto_flow": null,
            "grid_area": null,
            "grid_template_columns": null,
            "flex": null,
            "_model_name": "LayoutModel",
            "justify_items": null,
            "grid_row": null,
            "max_height": null,
            "align_content": null,
            "visibility": null,
            "align_self": null,
            "height": null,
            "min_height": null,
            "padding": null,
            "grid_auto_rows": null,
            "grid_gap": null,
            "max_width": null,
            "order": null,
            "_view_module_version": "1.2.0",
            "grid_template_areas": null,
            "object_position": null,
            "object_fit": null,
            "grid_auto_columns": null,
            "margin": null,
            "display": null,
            "left": null
          }
        },
        "4be3db0d33eb442fbcd9054bdec4ba3e": {
          "model_module": "@jupyter-widgets/controls",
          "model_name": "LabelModel",
          "model_module_version": "1.5.0",
          "state": {
            "_view_name": "LabelView",
            "style": "IPY_MODEL_4b3fc062fd9747ceab5f2d2a143b15da",
            "_dom_classes": [],
            "description": "",
            "_model_name": "LabelModel",
            "placeholder": "​",
            "_view_module": "@jupyter-widgets/controls",
            "_model_module_version": "1.5.0",
            "value": "Caudal",
            "_view_count": null,
            "_view_module_version": "1.5.0",
            "description_tooltip": null,
            "_model_module": "@jupyter-widgets/controls",
            "layout": "IPY_MODEL_840fb02927f6487caf6cf8eb88e613d3"
          }
        },
        "b06c8df3fe284daabd23c6bae35b0add": {
          "model_module": "@jupyter-widgets/controls",
          "model_name": "LabelModel",
          "model_module_version": "1.5.0",
          "state": {
            "_view_name": "LabelView",
            "style": "IPY_MODEL_355d3243a5ae467a88defe45ad92b102",
            "_dom_classes": [],
            "description": "",
            "_model_name": "LabelModel",
            "placeholder": "​",
            "_view_module": "@jupyter-widgets/controls",
            "_model_module_version": "1.5.0",
            "value": "Ancho",
            "_view_count": null,
            "_view_module_version": "1.5.0",
            "description_tooltip": null,
            "_model_module": "@jupyter-widgets/controls",
            "layout": "IPY_MODEL_53bf61a7b29646f995aed6e1cee297a0"
          }
        },
        "f4f5866ed1624afcbe1dd2862afd5a85": {
          "model_module": "@jupyter-widgets/controls",
          "model_name": "LabelModel",
          "model_module_version": "1.5.0",
          "state": {
            "_view_name": "LabelView",
            "style": "IPY_MODEL_e6a33b4c67c3485987686fa1109d2fa1",
            "_dom_classes": [],
            "description": "",
            "_model_name": "LabelModel",
            "placeholder": "​",
            "_view_module": "@jupyter-widgets/controls",
            "_model_module_version": "1.5.0",
            "value": "Pendiente(x10^-4)",
            "_view_count": null,
            "_view_module_version": "1.5.0",
            "description_tooltip": null,
            "_model_module": "@jupyter-widgets/controls",
            "layout": "IPY_MODEL_55d2cb6eae8f41f2a75f47a0096e8c73"
          }
        },
        "dfdb073f716a41fcaedd63b70b59c8d6": {
          "model_module": "@jupyter-widgets/controls",
          "model_name": "LabelModel",
          "model_module_version": "1.5.0",
          "state": {
            "_view_name": "LabelView",
            "style": "IPY_MODEL_b8932ce581cf4065a5fb12d966468ec8",
            "_dom_classes": [],
            "description": "",
            "_model_name": "LabelModel",
            "placeholder": "​",
            "_view_module": "@jupyter-widgets/controls",
            "_model_module_version": "1.5.0",
            "value": "Rugosidad(x10^-4)",
            "_view_count": null,
            "_view_module_version": "1.5.0",
            "description_tooltip": null,
            "_model_module": "@jupyter-widgets/controls",
            "layout": "IPY_MODEL_d64e89ce90fb4fdfaa4e00ffb059c128"
          }
        },
        "604f62167bea4f7d8d091e40cc58563e": {
          "model_module": "@jupyter-widgets/base",
          "model_name": "LayoutModel",
          "model_module_version": "1.2.0",
          "state": {
            "_view_name": "LayoutView",
            "grid_template_rows": null,
            "right": null,
            "justify_content": null,
            "_view_module": "@jupyter-widgets/base",
            "overflow": null,
            "_model_module_version": "1.2.0",
            "_view_count": null,
            "flex_flow": null,
            "width": null,
            "min_width": null,
            "border": null,
            "align_items": null,
            "bottom": null,
            "_model_module": "@jupyter-widgets/base",
            "top": null,
            "grid_column": null,
            "overflow_y": null,
            "overflow_x": null,
            "grid_auto_flow": null,
            "grid_area": null,
            "grid_template_columns": null,
            "flex": null,
            "_model_name": "LayoutModel",
            "justify_items": null,
            "grid_row": null,
            "max_height": null,
            "align_content": null,
            "visibility": null,
            "align_self": null,
            "height": null,
            "min_height": null,
            "padding": null,
            "grid_auto_rows": null,
            "grid_gap": null,
            "max_width": null,
            "order": null,
            "_view_module_version": "1.2.0",
            "grid_template_areas": null,
            "object_position": null,
            "object_fit": null,
            "grid_auto_columns": null,
            "margin": null,
            "display": null,
            "left": null
          }
        },
        "6198560685db4ee8888f955e2064d263": {
          "model_module": "@jupyter-widgets/controls",
          "model_name": "FloatSliderModel",
          "model_module_version": "1.5.0",
          "state": {
            "_view_name": "FloatSliderView",
            "style": "IPY_MODEL_5e328c7911e842c49a18aab7af054ddf",
            "_dom_classes": [],
            "description": "",
            "step": 0.1,
            "_model_name": "FloatSliderModel",
            "orientation": "horizontal",
            "max": 10,
            "_view_module": "@jupyter-widgets/controls",
            "_model_module_version": "1.5.0",
            "value": 6,
            "_view_count": null,
            "disabled": false,
            "_view_module_version": "1.5.0",
            "min": 0.1,
            "continuous_update": false,
            "readout_format": ".2f",
            "description_tooltip": null,
            "readout": true,
            "_model_module": "@jupyter-widgets/controls",
            "layout": "IPY_MODEL_07e7fe22fe5945b09a4d6d34ed7896c3"
          }
        },
        "b5590a796e824d858676cd9a9c7332c4": {
          "model_module": "@jupyter-widgets/controls",
          "model_name": "FloatSliderModel",
          "model_module_version": "1.5.0",
          "state": {
            "_view_name": "FloatSliderView",
            "style": "IPY_MODEL_197f9de78d0d4b2083715e3d9580646e",
            "_dom_classes": [],
            "description": "",
            "step": 0.1,
            "_model_name": "FloatSliderModel",
            "orientation": "horizontal",
            "max": 10,
            "_view_module": "@jupyter-widgets/controls",
            "_model_module_version": "1.5.0",
            "value": 4,
            "_view_count": null,
            "disabled": false,
            "_view_module_version": "1.5.0",
            "min": 0.1,
            "continuous_update": false,
            "readout_format": ".2f",
            "description_tooltip": null,
            "readout": true,
            "_model_module": "@jupyter-widgets/controls",
            "layout": "IPY_MODEL_fcd252f008a0499bb1bb272871480ac2"
          }
        },
        "9a66c8b41ac64b50bf731dd041155b19": {
          "model_module": "@jupyter-widgets/controls",
          "model_name": "FloatSliderModel",
          "model_module_version": "1.5.0",
          "state": {
            "_view_name": "FloatSliderView",
            "style": "IPY_MODEL_8433d3c21e6c42b999e4426309115968",
            "_dom_classes": [],
            "description": "",
            "step": 0.01,
            "_model_name": "FloatSliderModel",
            "orientation": "horizontal",
            "max": 5,
            "_view_module": "@jupyter-widgets/controls",
            "_model_module_version": "1.5.0",
            "value": 2,
            "_view_count": null,
            "disabled": false,
            "_view_module_version": "1.5.0",
            "min": 0,
            "continuous_update": false,
            "readout_format": ".2f",
            "description_tooltip": null,
            "readout": true,
            "_model_module": "@jupyter-widgets/controls",
            "layout": "IPY_MODEL_d08ed78f39e24c599e9141b2551d5128"
          }
        },
        "998908da9cd64a999351ddfdaf68e1b5": {
          "model_module": "@jupyter-widgets/controls",
          "model_name": "FloatSliderModel",
          "model_module_version": "1.5.0",
          "state": {
            "_view_name": "FloatSliderView",
            "style": "IPY_MODEL_7f5e6717f25442938c704af07426332a",
            "_dom_classes": [],
            "description": "",
            "step": 1,
            "_model_name": "FloatSliderModel",
            "orientation": "horizontal",
            "max": 20,
            "_view_module": "@jupyter-widgets/controls",
            "_model_module_version": "1.5.0",
            "value": 12,
            "_view_count": null,
            "disabled": false,
            "_view_module_version": "1.5.0",
            "min": 1,
            "continuous_update": false,
            "readout_format": ".2f",
            "description_tooltip": null,
            "readout": true,
            "_model_module": "@jupyter-widgets/controls",
            "layout": "IPY_MODEL_30aaff015dcf477cb22a0d3831082d19"
          }
        },
        "4b3fc062fd9747ceab5f2d2a143b15da": {
          "model_module": "@jupyter-widgets/controls",
          "model_name": "DescriptionStyleModel",
          "model_module_version": "1.5.0",
          "state": {
            "_view_name": "StyleView",
            "_model_name": "DescriptionStyleModel",
            "description_width": "",
            "_view_module": "@jupyter-widgets/base",
            "_model_module_version": "1.5.0",
            "_view_count": null,
            "_view_module_version": "1.2.0",
            "_model_module": "@jupyter-widgets/controls"
          }
        },
        "840fb02927f6487caf6cf8eb88e613d3": {
          "model_module": "@jupyter-widgets/base",
          "model_name": "LayoutModel",
          "model_module_version": "1.2.0",
          "state": {
            "_view_name": "LayoutView",
            "grid_template_rows": null,
            "right": null,
            "justify_content": null,
            "_view_module": "@jupyter-widgets/base",
            "overflow": null,
            "_model_module_version": "1.2.0",
            "_view_count": null,
            "flex_flow": null,
            "width": null,
            "min_width": null,
            "border": null,
            "align_items": null,
            "bottom": null,
            "_model_module": "@jupyter-widgets/base",
            "top": null,
            "grid_column": null,
            "overflow_y": null,
            "overflow_x": null,
            "grid_auto_flow": null,
            "grid_area": null,
            "grid_template_columns": null,
            "flex": null,
            "_model_name": "LayoutModel",
            "justify_items": null,
            "grid_row": null,
            "max_height": null,
            "align_content": null,
            "visibility": null,
            "align_self": null,
            "height": null,
            "min_height": null,
            "padding": null,
            "grid_auto_rows": null,
            "grid_gap": null,
            "max_width": null,
            "order": null,
            "_view_module_version": "1.2.0",
            "grid_template_areas": null,
            "object_position": null,
            "object_fit": null,
            "grid_auto_columns": null,
            "margin": null,
            "display": null,
            "left": null
          }
        },
        "355d3243a5ae467a88defe45ad92b102": {
          "model_module": "@jupyter-widgets/controls",
          "model_name": "DescriptionStyleModel",
          "model_module_version": "1.5.0",
          "state": {
            "_view_name": "StyleView",
            "_model_name": "DescriptionStyleModel",
            "description_width": "",
            "_view_module": "@jupyter-widgets/base",
            "_model_module_version": "1.5.0",
            "_view_count": null,
            "_view_module_version": "1.2.0",
            "_model_module": "@jupyter-widgets/controls"
          }
        },
        "53bf61a7b29646f995aed6e1cee297a0": {
          "model_module": "@jupyter-widgets/base",
          "model_name": "LayoutModel",
          "model_module_version": "1.2.0",
          "state": {
            "_view_name": "LayoutView",
            "grid_template_rows": null,
            "right": null,
            "justify_content": null,
            "_view_module": "@jupyter-widgets/base",
            "overflow": null,
            "_model_module_version": "1.2.0",
            "_view_count": null,
            "flex_flow": null,
            "width": null,
            "min_width": null,
            "border": null,
            "align_items": null,
            "bottom": null,
            "_model_module": "@jupyter-widgets/base",
            "top": null,
            "grid_column": null,
            "overflow_y": null,
            "overflow_x": null,
            "grid_auto_flow": null,
            "grid_area": null,
            "grid_template_columns": null,
            "flex": null,
            "_model_name": "LayoutModel",
            "justify_items": null,
            "grid_row": null,
            "max_height": null,
            "align_content": null,
            "visibility": null,
            "align_self": null,
            "height": null,
            "min_height": null,
            "padding": null,
            "grid_auto_rows": null,
            "grid_gap": null,
            "max_width": null,
            "order": null,
            "_view_module_version": "1.2.0",
            "grid_template_areas": null,
            "object_position": null,
            "object_fit": null,
            "grid_auto_columns": null,
            "margin": null,
            "display": null,
            "left": null
          }
        },
        "e6a33b4c67c3485987686fa1109d2fa1": {
          "model_module": "@jupyter-widgets/controls",
          "model_name": "DescriptionStyleModel",
          "model_module_version": "1.5.0",
          "state": {
            "_view_name": "StyleView",
            "_model_name": "DescriptionStyleModel",
            "description_width": "",
            "_view_module": "@jupyter-widgets/base",
            "_model_module_version": "1.5.0",
            "_view_count": null,
            "_view_module_version": "1.2.0",
            "_model_module": "@jupyter-widgets/controls"
          }
        },
        "55d2cb6eae8f41f2a75f47a0096e8c73": {
          "model_module": "@jupyter-widgets/base",
          "model_name": "LayoutModel",
          "model_module_version": "1.2.0",
          "state": {
            "_view_name": "LayoutView",
            "grid_template_rows": null,
            "right": null,
            "justify_content": null,
            "_view_module": "@jupyter-widgets/base",
            "overflow": null,
            "_model_module_version": "1.2.0",
            "_view_count": null,
            "flex_flow": null,
            "width": null,
            "min_width": null,
            "border": null,
            "align_items": null,
            "bottom": null,
            "_model_module": "@jupyter-widgets/base",
            "top": null,
            "grid_column": null,
            "overflow_y": null,
            "overflow_x": null,
            "grid_auto_flow": null,
            "grid_area": null,
            "grid_template_columns": null,
            "flex": null,
            "_model_name": "LayoutModel",
            "justify_items": null,
            "grid_row": null,
            "max_height": null,
            "align_content": null,
            "visibility": null,
            "align_self": null,
            "height": null,
            "min_height": null,
            "padding": null,
            "grid_auto_rows": null,
            "grid_gap": null,
            "max_width": null,
            "order": null,
            "_view_module_version": "1.2.0",
            "grid_template_areas": null,
            "object_position": null,
            "object_fit": null,
            "grid_auto_columns": null,
            "margin": null,
            "display": null,
            "left": null
          }
        },
        "b8932ce581cf4065a5fb12d966468ec8": {
          "model_module": "@jupyter-widgets/controls",
          "model_name": "DescriptionStyleModel",
          "model_module_version": "1.5.0",
          "state": {
            "_view_name": "StyleView",
            "_model_name": "DescriptionStyleModel",
            "description_width": "",
            "_view_module": "@jupyter-widgets/base",
            "_model_module_version": "1.5.0",
            "_view_count": null,
            "_view_module_version": "1.2.0",
            "_model_module": "@jupyter-widgets/controls"
          }
        },
        "d64e89ce90fb4fdfaa4e00ffb059c128": {
          "model_module": "@jupyter-widgets/base",
          "model_name": "LayoutModel",
          "model_module_version": "1.2.0",
          "state": {
            "_view_name": "LayoutView",
            "grid_template_rows": null,
            "right": null,
            "justify_content": null,
            "_view_module": "@jupyter-widgets/base",
            "overflow": null,
            "_model_module_version": "1.2.0",
            "_view_count": null,
            "flex_flow": null,
            "width": null,
            "min_width": null,
            "border": null,
            "align_items": null,
            "bottom": null,
            "_model_module": "@jupyter-widgets/base",
            "top": null,
            "grid_column": null,
            "overflow_y": null,
            "overflow_x": null,
            "grid_auto_flow": null,
            "grid_area": null,
            "grid_template_columns": null,
            "flex": null,
            "_model_name": "LayoutModel",
            "justify_items": null,
            "grid_row": null,
            "max_height": null,
            "align_content": null,
            "visibility": null,
            "align_self": null,
            "height": null,
            "min_height": null,
            "padding": null,
            "grid_auto_rows": null,
            "grid_gap": null,
            "max_width": null,
            "order": null,
            "_view_module_version": "1.2.0",
            "grid_template_areas": null,
            "object_position": null,
            "object_fit": null,
            "grid_auto_columns": null,
            "margin": null,
            "display": null,
            "left": null
          }
        },
        "5e328c7911e842c49a18aab7af054ddf": {
          "model_module": "@jupyter-widgets/controls",
          "model_name": "SliderStyleModel",
          "model_module_version": "1.5.0",
          "state": {
            "_view_name": "StyleView",
            "handle_color": null,
            "_model_name": "SliderStyleModel",
            "description_width": "",
            "_view_module": "@jupyter-widgets/base",
            "_model_module_version": "1.5.0",
            "_view_count": null,
            "_view_module_version": "1.2.0",
            "_model_module": "@jupyter-widgets/controls"
          }
        },
        "07e7fe22fe5945b09a4d6d34ed7896c3": {
          "model_module": "@jupyter-widgets/base",
          "model_name": "LayoutModel",
          "model_module_version": "1.2.0",
          "state": {
            "_view_name": "LayoutView",
            "grid_template_rows": null,
            "right": null,
            "justify_content": null,
            "_view_module": "@jupyter-widgets/base",
            "overflow": null,
            "_model_module_version": "1.2.0",
            "_view_count": null,
            "flex_flow": null,
            "width": null,
            "min_width": null,
            "border": null,
            "align_items": null,
            "bottom": null,
            "_model_module": "@jupyter-widgets/base",
            "top": null,
            "grid_column": null,
            "overflow_y": null,
            "overflow_x": null,
            "grid_auto_flow": null,
            "grid_area": null,
            "grid_template_columns": null,
            "flex": null,
            "_model_name": "LayoutModel",
            "justify_items": null,
            "grid_row": null,
            "max_height": null,
            "align_content": null,
            "visibility": null,
            "align_self": null,
            "height": null,
            "min_height": null,
            "padding": null,
            "grid_auto_rows": null,
            "grid_gap": null,
            "max_width": null,
            "order": null,
            "_view_module_version": "1.2.0",
            "grid_template_areas": null,
            "object_position": null,
            "object_fit": null,
            "grid_auto_columns": null,
            "margin": null,
            "display": null,
            "left": null
          }
        },
        "197f9de78d0d4b2083715e3d9580646e": {
          "model_module": "@jupyter-widgets/controls",
          "model_name": "SliderStyleModel",
          "model_module_version": "1.5.0",
          "state": {
            "_view_name": "StyleView",
            "handle_color": null,
            "_model_name": "SliderStyleModel",
            "description_width": "",
            "_view_module": "@jupyter-widgets/base",
            "_model_module_version": "1.5.0",
            "_view_count": null,
            "_view_module_version": "1.2.0",
            "_model_module": "@jupyter-widgets/controls"
          }
        },
        "fcd252f008a0499bb1bb272871480ac2": {
          "model_module": "@jupyter-widgets/base",
          "model_name": "LayoutModel",
          "model_module_version": "1.2.0",
          "state": {
            "_view_name": "LayoutView",
            "grid_template_rows": null,
            "right": null,
            "justify_content": null,
            "_view_module": "@jupyter-widgets/base",
            "overflow": null,
            "_model_module_version": "1.2.0",
            "_view_count": null,
            "flex_flow": null,
            "width": null,
            "min_width": null,
            "border": null,
            "align_items": null,
            "bottom": null,
            "_model_module": "@jupyter-widgets/base",
            "top": null,
            "grid_column": null,
            "overflow_y": null,
            "overflow_x": null,
            "grid_auto_flow": null,
            "grid_area": null,
            "grid_template_columns": null,
            "flex": null,
            "_model_name": "LayoutModel",
            "justify_items": null,
            "grid_row": null,
            "max_height": null,
            "align_content": null,
            "visibility": null,
            "align_self": null,
            "height": null,
            "min_height": null,
            "padding": null,
            "grid_auto_rows": null,
            "grid_gap": null,
            "max_width": null,
            "order": null,
            "_view_module_version": "1.2.0",
            "grid_template_areas": null,
            "object_position": null,
            "object_fit": null,
            "grid_auto_columns": null,
            "margin": null,
            "display": null,
            "left": null
          }
        },
        "8433d3c21e6c42b999e4426309115968": {
          "model_module": "@jupyter-widgets/controls",
          "model_name": "SliderStyleModel",
          "model_module_version": "1.5.0",
          "state": {
            "_view_name": "StyleView",
            "handle_color": null,
            "_model_name": "SliderStyleModel",
            "description_width": "",
            "_view_module": "@jupyter-widgets/base",
            "_model_module_version": "1.5.0",
            "_view_count": null,
            "_view_module_version": "1.2.0",
            "_model_module": "@jupyter-widgets/controls"
          }
        },
        "d08ed78f39e24c599e9141b2551d5128": {
          "model_module": "@jupyter-widgets/base",
          "model_name": "LayoutModel",
          "model_module_version": "1.2.0",
          "state": {
            "_view_name": "LayoutView",
            "grid_template_rows": null,
            "right": null,
            "justify_content": null,
            "_view_module": "@jupyter-widgets/base",
            "overflow": null,
            "_model_module_version": "1.2.0",
            "_view_count": null,
            "flex_flow": null,
            "width": null,
            "min_width": null,
            "border": null,
            "align_items": null,
            "bottom": null,
            "_model_module": "@jupyter-widgets/base",
            "top": null,
            "grid_column": null,
            "overflow_y": null,
            "overflow_x": null,
            "grid_auto_flow": null,
            "grid_area": null,
            "grid_template_columns": null,
            "flex": null,
            "_model_name": "LayoutModel",
            "justify_items": null,
            "grid_row": null,
            "max_height": null,
            "align_content": null,
            "visibility": null,
            "align_self": null,
            "height": null,
            "min_height": null,
            "padding": null,
            "grid_auto_rows": null,
            "grid_gap": null,
            "max_width": null,
            "order": null,
            "_view_module_version": "1.2.0",
            "grid_template_areas": null,
            "object_position": null,
            "object_fit": null,
            "grid_auto_columns": null,
            "margin": null,
            "display": null,
            "left": null
          }
        },
        "7f5e6717f25442938c704af07426332a": {
          "model_module": "@jupyter-widgets/controls",
          "model_name": "SliderStyleModel",
          "model_module_version": "1.5.0",
          "state": {
            "_view_name": "StyleView",
            "handle_color": null,
            "_model_name": "SliderStyleModel",
            "description_width": "",
            "_view_module": "@jupyter-widgets/base",
            "_model_module_version": "1.5.0",
            "_view_count": null,
            "_view_module_version": "1.2.0",
            "_model_module": "@jupyter-widgets/controls"
          }
        },
        "30aaff015dcf477cb22a0d3831082d19": {
          "model_module": "@jupyter-widgets/base",
          "model_name": "LayoutModel",
          "model_module_version": "1.2.0",
          "state": {
            "_view_name": "LayoutView",
            "grid_template_rows": null,
            "right": null,
            "justify_content": null,
            "_view_module": "@jupyter-widgets/base",
            "overflow": null,
            "_model_module_version": "1.2.0",
            "_view_count": null,
            "flex_flow": null,
            "width": null,
            "min_width": null,
            "border": null,
            "align_items": null,
            "bottom": null,
            "_model_module": "@jupyter-widgets/base",
            "top": null,
            "grid_column": null,
            "overflow_y": null,
            "overflow_x": null,
            "grid_auto_flow": null,
            "grid_area": null,
            "grid_template_columns": null,
            "flex": null,
            "_model_name": "LayoutModel",
            "justify_items": null,
            "grid_row": null,
            "max_height": null,
            "align_content": null,
            "visibility": null,
            "align_self": null,
            "height": null,
            "min_height": null,
            "padding": null,
            "grid_auto_rows": null,
            "grid_gap": null,
            "max_width": null,
            "order": null,
            "_view_module_version": "1.2.0",
            "grid_template_areas": null,
            "object_position": null,
            "object_fit": null,
            "grid_auto_columns": null,
            "margin": null,
            "display": null,
            "left": null
          }
        },
        "3b3c403358fc42ed99dff0376e4ac10d": {
          "model_module": "@jupyter-widgets/base",
          "model_name": "LayoutModel",
          "model_module_version": "1.2.0",
          "state": {
            "_view_name": "LayoutView",
            "grid_template_rows": null,
            "right": null,
            "justify_content": null,
            "_view_module": "@jupyter-widgets/base",
            "overflow": null,
            "_model_module_version": "1.2.0",
            "_view_count": null,
            "flex_flow": null,
            "width": null,
            "min_width": null,
            "border": null,
            "align_items": null,
            "bottom": null,
            "_model_module": "@jupyter-widgets/base",
            "top": null,
            "grid_column": null,
            "overflow_y": null,
            "overflow_x": null,
            "grid_auto_flow": null,
            "grid_area": null,
            "grid_template_columns": null,
            "flex": null,
            "_model_name": "LayoutModel",
            "justify_items": null,
            "grid_row": null,
            "max_height": null,
            "align_content": null,
            "visibility": null,
            "align_self": null,
            "height": null,
            "min_height": null,
            "padding": null,
            "grid_auto_rows": null,
            "grid_gap": null,
            "max_width": null,
            "order": null,
            "_view_module_version": "1.2.0",
            "grid_template_areas": null,
            "object_position": null,
            "object_fit": null,
            "grid_auto_columns": null,
            "margin": null,
            "display": null,
            "left": null
          }
        },
        "cec34356fb344b73a7d257981cf91750": {
          "model_module": "@jupyter-widgets/base",
          "model_name": "LayoutModel",
          "model_module_version": "1.2.0",
          "state": {
            "_view_name": "LayoutView",
            "grid_template_rows": null,
            "right": null,
            "justify_content": null,
            "_view_module": "@jupyter-widgets/base",
            "overflow": null,
            "_model_module_version": "1.2.0",
            "_view_count": null,
            "flex_flow": null,
            "width": null,
            "min_width": null,
            "border": null,
            "align_items": null,
            "bottom": null,
            "_model_module": "@jupyter-widgets/base",
            "top": null,
            "grid_column": null,
            "overflow_y": null,
            "overflow_x": null,
            "grid_auto_flow": null,
            "grid_area": null,
            "grid_template_columns": null,
            "flex": null,
            "_model_name": "LayoutModel",
            "justify_items": null,
            "grid_row": null,
            "max_height": null,
            "align_content": null,
            "visibility": null,
            "align_self": null,
            "height": null,
            "min_height": null,
            "padding": null,
            "grid_auto_rows": null,
            "grid_gap": null,
            "max_width": null,
            "order": null,
            "_view_module_version": "1.2.0",
            "grid_template_areas": null,
            "object_position": null,
            "object_fit": null,
            "grid_auto_columns": null,
            "margin": null,
            "display": null,
            "left": null
          }
        }
      }
    }
  },
  "cells": [
    {
      "cell_type": "markdown",
      "metadata": {
        "id": "view-in-github",
        "colab_type": "text"
      },
      "source": [
        "<a href=\"https://colab.research.google.com/github/dcaamano/Grupo_Hidraulica_Perfiles/blob/main/Taller_6_Perfiles_HIdra%CC%81ulicos.ipynb\" target=\"_parent\"><img src=\"https://colab.research.google.com/assets/colab-badge.svg\" alt=\"Open In Colab\"/></a>"
      ]
    },
    {
      "cell_type": "markdown",
      "metadata": {
        "id": "LpmYrRCraMom"
      },
      "source": [
        "# Taller 6. Perfiles Hidráulicos\n",
        "## Ejercicio 4.34 Libro Open Channel Flow. del autor F. M. Henderson"
      ]
    },
    {
      "cell_type": "markdown",
      "metadata": {
        "id": "3I1fnDejaMor"
      },
      "source": [
        "El canal de la figura muestra el perfil longitudinal de un canal de sección rectangular y de 30ft de ancho. El material del canal es hormigón con n = 0.014. Encuentre el caudal en el canal, grafique los perfiles hidráulicos identificando cada uno de ellos, y determine si se produce resalto hidráulico. En caso que el resalto exista, entonces defina si ocurre aguas abajo o aguas arriba de la sección A. Para sus calculos asuma que ambos canales son hidraulicamente largos. "
      ]
    },
    {
      "cell_type": "markdown",
      "metadata": {
        "id": "tKHdkR3OaMos"
      },
      "source": [
        "<center><img src=\"https://raw.githubusercontent.com/dcaamano/Grupo_Hidraulica_Perfiles/main/Taller6_Fig1.png\" alt=\"Ejercicio\" width=\"800\"></center>\n"
      ]
    },
    {
      "cell_type": "code",
      "metadata": {
        "id": "Epe0282NaMot"
      },
      "source": [
        "#Definición de Variables\n",
        "E_entrada = 100 - 93\n",
        "b = 30\n",
        "So1 = 0.005\n",
        "So2 = 0.001\n",
        "n1 = 0.014\n",
        "n2 = 0.014\n",
        "\n",
        "#Constantes\n",
        "g = 32.2\n",
        "k = 1.49 #puesto que estamos trabajando con el sistema inglés "
      ],
      "execution_count": null,
      "outputs": []
    },
    {
      "cell_type": "markdown",
      "metadata": {
        "id": "ECN0N4T3aMou"
      },
      "source": [
        "Se conoce que ambos canales son hidráulicamente largos. Entonces, en ambos canales el eje hidráulico alcanza la altura normal de escurrimiento en el sentido del avance de la señal (Subcrítico viaja hacia aguas arriba, y en supercrítico viaja hacia aguas abajo). Lo primero entonces es determinar los tipos de perfiles y para ello se debe i) identificar el tipo de pendiente, y ii) definir los puntos de control.\n",
        "\n",
        "El canal no cambia de ancho y el caudal se mantiene constante, por lo tanto, la altura crítica es la misma para ambos canales. \n",
        "\n",
        "Se asume que la pendiente del canal 1 es fuerte ¿Por qué? Para optar por un flujo supercrítico en el canal 1, consecuentemente la ocurrencia de altura crítica en la entrada del canal que esta asociada a el caudal máximo (ver gráfica de $y$ vs $q$ para $E=constante$)."
      ]
    },
    {
      "cell_type": "code",
      "metadata": {
        "cellView": "form",
        "id": "aswy7ab_aMov"
      },
      "source": [
        "#@title Librerías necesarias\n",
        "import numpy as np\n",
        "import matplotlib.pyplot as plt\n",
        "import matplotlib.patches as patches\n",
        "from scipy.optimize import fsolve\n",
        "import ipywidgets as ipw\n",
        "from ipywidgets import interact, interactive, fixed, interact_manual\n",
        "from IPython.display import display\n",
        "import matplotlib.pyplot as plt\n",
        "%matplotlib inline"
      ],
      "execution_count": null,
      "outputs": []
    },
    {
      "cell_type": "code",
      "metadata": {
        "colab": {
          "base_uri": "https://localhost:8080/"
        },
        "cellView": "form",
        "id": "VPjkM-M0aMov",
        "outputId": "1f931fad-2a28-4bbd-c0fc-e6971c26c893"
      },
      "source": [
        "#@title Cálculo de altura crítica y caudal porteado\n",
        "#Cálculo de la altura crítica\n",
        "yc = (2/3)*E_entrada\n",
        "\n",
        "#Caudal máximo asociado\n",
        "q_max = (g*yc**3)**(1/2)\n",
        "Q_max = q_max*b\n",
        "print(\"y_c = \", np.round(yc,3), \"ft\")\n",
        "print(\"Q_max = \", np.round(Q_max,3), \"cfs\")"
      ],
      "execution_count": null,
      "outputs": [
        {
          "output_type": "stream",
          "name": "stdout",
          "text": [
            "y_c =  4.667 ft\n",
            "Q_max =  947.253 cfs\n"
          ]
        }
      ]
    },
    {
      "cell_type": "markdown",
      "metadata": {
        "id": "6oulwanyaMox"
      },
      "source": [
        "**Pregunta 1.** ¿Cuál sería la altura normal, $y_n$, para el caudal máximo estimado? ¿Cómo debería ser $y_n$ en comparación con $y_c$ para que el flujo fuese supercrítico? "
      ]
    },
    {
      "cell_type": "code",
      "metadata": {
        "cellView": "form",
        "id": "YKepKIEqaMox"
      },
      "source": [
        "#@title Cálculo altura normal de escurrimiento\n",
        "#Función para la ecuación de Manning para una sección rectangular\n",
        "def manning(y, Q, b, So, n, k):\n",
        "    A = b*y \n",
        "    P = b + 2*y\n",
        "    R = A/P\n",
        "    return Q - (k/n)*A*R**(2/3)*So**(1/2)"
      ],
      "execution_count": null,
      "outputs": []
    },
    {
      "cell_type": "code",
      "metadata": {
        "colab": {
          "base_uri": "https://localhost:8080/"
        },
        "id": "bHuES-rJaMoz",
        "outputId": "a7b2be47-c7fa-47f1-f1b8-81b4e6eacd0b"
      },
      "source": [
        "yn1 = fsolve(manning, 4.6, args=(Q_max, b, So1, n1, k))\n",
        "print(\"yn1 = \", np.round(yn1,3), \"ft\")"
      ],
      "execution_count": null,
      "outputs": [
        {
          "output_type": "stream",
          "name": "stdout",
          "text": [
            "yn1 =  [3.687] ft\n"
          ]
        }
      ]
    },
    {
      "cell_type": "markdown",
      "metadata": {
        "id": "T5cMh-y5aMoz"
      },
      "source": [
        "$y_{n1}<y_c$ entonces se trata de una pendiente fuerte. ¿Donde está el control hidráulico?\n",
        "\n",
        "El cambio de la superficie del agua desde el lago al canal 1 implica el paso por la altura crítica. Luego la crisis es el punto de control y controla hacia aguas abajo. Se produce un perfil S2. Ver tabla de perfiles. \n",
        "\n",
        "**Pregunta 2.** ¿Qué tendría que pasar para que en pendiente fuerte el control no fuese $y_c$ en el canal 1?"
      ]
    },
    {
      "cell_type": "markdown",
      "metadata": {
        "id": "0cUtvSPXaMo0"
      },
      "source": [
        "El canal 2 mantiene el caudal porteado por el canal 1, por lo tanto, se puede utilizar el valor del caudal máximo para la energía dada para estimar la altura normal del canal 2."
      ]
    },
    {
      "cell_type": "code",
      "metadata": {
        "colab": {
          "base_uri": "https://localhost:8080/"
        },
        "id": "WDSNEU5QaMo1",
        "outputId": "8714884d-df2e-4f60-96bd-f93e9820744b"
      },
      "source": [
        "yn2 = fsolve(manning, 5, args=(Q_max, b, So2, n2, k))\n",
        "print(\"yn2 = \", np.round(yn2,3), \"ft\")"
      ],
      "execution_count": null,
      "outputs": [
        {
          "output_type": "stream",
          "name": "stdout",
          "text": [
            "yn2 =  [6.297] ft\n"
          ]
        }
      ]
    },
    {
      "cell_type": "markdown",
      "metadata": {
        "id": "Xx9MkUJVaMo2"
      },
      "source": [
        "$y_{n2}>y_c$ entonces el canal 2 posee una pendiente suave. ¿Donde está el control hidráulico?\n",
        "\n",
        "La altura del agua en el reservorio inferior es $y_{lago2}=90-80=7ft$ y es mayor que $y_{n2}$. Por lo tanto, $y_{lago2}$ propone un regimen subcritico controlado desde aguas abajo (i.e. hacia aguas arriba). Se produce un perfil M1. Ver tabla de perfiles. \n",
        "\n",
        "**Pregunta 3.** ¿Hubiese $y_{lago2}$ sido un control si $y_{lago2}=5.5ft$? ¿Qué perfil hidráulico se hubiese generado?¿Hubiese cambiado el valor de la altura normal de escurrimiento en el canal 2?\n",
        "\n",
        "Como ambos canales son largos, a la sección A llega desde aguas arriba $y_{n1}$, y desde aguas abajo $y_{n2}$. La primera es supercrítica y la segunda es subcrítica, lo que implica la ocurrencia de un resalto hidráulico. Ahora para conocer la ubicación del resalto es neceario estimar las fuerzas específicas respectivas."
      ]
    },
    {
      "cell_type": "code",
      "metadata": {
        "colab": {
          "base_uri": "https://localhost:8080/"
        },
        "cellView": "form",
        "id": "XN4r9cquaMo3",
        "outputId": "18349cbe-b89f-4c59-b584-c29a018eca3c"
      },
      "source": [
        "#@title Cálculo de fuerzas específicas\n",
        "#Calcular las fuerzas específicas M1 y M2.\n",
        "M1 = q_max**2/(g*yn1)+yn1**2/2\n",
        "M2 = q_max**2/(g*yn2)+yn2**2/2\n",
        "print(\"M1 = \", np.round(M1,3), \"ft^2\")\n",
        "print(\"M2 = \", np.round(M2,3), \"ft^2\")"
      ],
      "execution_count": null,
      "outputs": [
        {
          "output_type": "stream",
          "name": "stdout",
          "text": [
            "M1 =  [34.36] ft^2\n",
            "M2 =  [35.965] ft^2\n"
          ]
        }
      ]
    },
    {
      "cell_type": "markdown",
      "metadata": {
        "id": "DoSr4-xmaMo3"
      },
      "source": [
        "Dado que $M_2 > M_1$ entonces el resalto ocurre en el canal 1. Aguas arriba de la sección A.\n",
        "\n",
        "**Pregunta 4.** ¿Qué pasa si el manning baja a $n=0.012$ en ambos canales?¿Ocurriría resalto hidráulico?¿Donde?\n",
        "\n",
        "**Pregunta 5.** ¿Cómo varia $y_n$ e $y_c$ con el caudal, ancho, pendiente del fondo y rugosidad?"
      ]
    },
    {
      "cell_type": "code",
      "metadata": {
        "colab": {
          "base_uri": "https://localhost:8080/",
          "height": 427,
          "referenced_widgets": [
            "9389e68199744247a021746fb1b92ab9",
            "4e69957122aa4f4cbc0e4da549d8a2f1",
            "78f2d35f8e014cd7944f6f6a40e43e50",
            "067be6091d2240c28004493c1d7ed59d",
            "f233b1ddde6c475e84499252f2a3dd9a",
            "10ed13c39dd6450f9305eee9ea2c7e6c",
            "05b3d4ac64dc4379b0835945662b6fa8",
            "16e22fdd4529486890dc7f23e2fd5027",
            "a140bfccc38d4257b115351e247ddcd8",
            "4be3db0d33eb442fbcd9054bdec4ba3e",
            "b06c8df3fe284daabd23c6bae35b0add",
            "f4f5866ed1624afcbe1dd2862afd5a85",
            "dfdb073f716a41fcaedd63b70b59c8d6",
            "604f62167bea4f7d8d091e40cc58563e",
            "6198560685db4ee8888f955e2064d263",
            "b5590a796e824d858676cd9a9c7332c4",
            "9a66c8b41ac64b50bf731dd041155b19",
            "998908da9cd64a999351ddfdaf68e1b5",
            "4b3fc062fd9747ceab5f2d2a143b15da",
            "840fb02927f6487caf6cf8eb88e613d3",
            "355d3243a5ae467a88defe45ad92b102",
            "53bf61a7b29646f995aed6e1cee297a0",
            "e6a33b4c67c3485987686fa1109d2fa1",
            "55d2cb6eae8f41f2a75f47a0096e8c73",
            "b8932ce581cf4065a5fb12d966468ec8",
            "d64e89ce90fb4fdfaa4e00ffb059c128",
            "5e328c7911e842c49a18aab7af054ddf",
            "07e7fe22fe5945b09a4d6d34ed7896c3",
            "197f9de78d0d4b2083715e3d9580646e",
            "fcd252f008a0499bb1bb272871480ac2",
            "8433d3c21e6c42b999e4426309115968",
            "d08ed78f39e24c599e9141b2551d5128",
            "7f5e6717f25442938c704af07426332a",
            "30aaff015dcf477cb22a0d3831082d19",
            "3b3c403358fc42ed99dff0376e4ac10d",
            "cec34356fb344b73a7d257981cf91750"
          ]
        },
        "cellView": "form",
        "id": "nn7sj3XcaMo3",
        "outputId": "670d95eb-0e67-4f78-930a-20e4535c50f7"
      },
      "source": [
        "#@title Widget para pregunta 5\n",
        "Qx = ipw.FloatSlider(min=0.1, max=10, value =6, continuous_update=False)\n",
        "\n",
        "bx = ipw.FloatSlider(min=0.1, max=10, value =4, continuous_update=False)\n",
        "\n",
        "Sox = ipw.FloatSlider(min=0, max=5,step = 0.01, value =2, continuous_update=False)\n",
        "\n",
        "nx = ipw.FloatSlider(min=1, max=20,step = 1, value =12, continuous_update=False)\n",
        "\n",
        "g = 9.81\n",
        "\n",
        "def f(Q,b,So, n):\n",
        "    \n",
        "    yc = ((Q/b)**2 / g)**(1/3)     \n",
        "    def y_n(y):\n",
        "        F = np.zeros(1)\n",
        "        F[0] = (b*y)**(5/3) * (b+2*y)**(-2/3) *(So*10**-4)**(1/2) - Q*(n*10**-4) ;\n",
        "        return F\n",
        "    yinicial = np.array([yc*2.4])\n",
        "    yn = fsolve(y_n, yinicial)\n",
        "   \n",
        "    print('Altura normal = {} m.'.format(np.round(yn[0],4)))\n",
        "    print('Altura crítica = {} m.'.format(np.round(yc,4)))\n",
        "    return f\n",
        "\n",
        "def graf(Q,b,So, n):\n",
        "    \n",
        "    yc = ((Q/b)**2 / g)**(1/3)     \n",
        "    \n",
        "    def y_n(y):\n",
        "        F = np.zeros(1)\n",
        "        F[0] = (b*y)**(5/3) * (b+2*y)**(-2/3) *(So*10**-4)**(1/2) - Q*(n*10**-4) ;\n",
        "        return F\n",
        "    \n",
        "    yinicial = np.array([yc*2.4])\n",
        "    yn = fsolve(y_n, yinicial)\n",
        "    ax = plt.gca();\n",
        "    plt.figure(figsize=(3, 3));\n",
        "    rect1 = patches.Rectangle((0,0),\n",
        "                     b,\n",
        "                     yn,\n",
        "                     linewidth = 2,\n",
        "                     edgecolor = 'none',\n",
        "                     facecolor = 'cyan',\n",
        "                     fill = True)\n",
        "\n",
        "    ax.add_patch(rect1)\n",
        "    ax.set_title('Sección rectangular')\n",
        "    ax.set_xlim([-0.1, b+0.5])\n",
        "    ax.set_ylim([-0.1, 2])\n",
        "    ax.hlines(y=yc,xmin=0, xmax=b, color='r', label='yc', ls='--')\n",
        "    ax.hlines(y=0,xmin=0, xmax=b, color='k')\n",
        "    ax.vlines(x=0,ymin=0, ymax=1.5, color='k')\n",
        "    ax.vlines(x=b,ymin=0, ymax=1.5, color='k')\n",
        "    plt.show();\n",
        "\n",
        "Yn_ = ipw.interactive_output(f, {'Q':Qx, 'b':bx, 'So':Sox, 'n':nx})\n",
        "\n",
        "Gf =  ipw.interactive_output(graf, {'Q':Qx, 'b':bx, 'So':Sox, 'n':nx})\n",
        "variables = ipw.VBox([ipw.Label('Caudal'), ipw.Label('Ancho'), ipw.Label('Pendiente(x10^-4)'), ipw.Label('Rugosidad(x10^-4)')])\n",
        "\n",
        "ipw.VBox([ipw.HBox([variables,ipw.VBox([Qx, bx, Sox, nx]),Yn_ ]),Gf])\n"
      ],
      "execution_count": null,
      "outputs": [
        {
          "output_type": "display_data",
          "data": {
            "application/vnd.jupyter.widget-view+json": {
              "model_id": "9389e68199744247a021746fb1b92ab9",
              "version_minor": 0,
              "version_major": 2
            },
            "text/plain": [
              "VBox(children=(HBox(children=(VBox(children=(Label(value='Caudal'), Label(value='Ancho'), Label(value='Pendien…"
            ]
          },
          "metadata": {}
        }
      ]
    },
    {
      "cell_type": "code",
      "metadata": {
        "id": "hyR2FwdUaMo4"
      },
      "source": [
        ""
      ],
      "execution_count": null,
      "outputs": []
    }
  ]
}